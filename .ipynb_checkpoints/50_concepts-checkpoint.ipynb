{
 "cells": [
  {
   "cell_type": "code",
   "execution_count": 1,
   "id": "1fdda182-eff8-4c76-8928-f57142d2ee4c",
   "metadata": {},
   "outputs": [],
   "source": [
    "'''1.VARIABELS AND DATA TYPES'''\n",
    "x = 5 \n",
    "#int, float, string, list, tiples, dictionaries, sets\n",
    "x = 5\n",
    "y = 3.14\n",
    "name = 'John'\n",
    "my_list = [1,2,3] \n",
    "tup = (4,5,6)\n",
    "dictionary = {'name': 'John', 'age':30}\n"
   ]
  },
  {
   "cell_type": "code",
   "execution_count": 6,
   "id": "583e44e0-89f3-41ac-85f2-87bc6bc4f726",
   "metadata": {},
   "outputs": [
    {
     "ename": "SyntaxError",
     "evalue": "incomplete input (204708244.py, line 24)",
     "output_type": "error",
     "traceback": [
      "\u001b[1;36m  Cell \u001b[1;32mIn[6], line 24\u001b[1;36m\u001b[0m\n\u001b[1;33m    print(\u001b[0m\n\u001b[1;37m          ^\u001b[0m\n\u001b[1;31mSyntaxError\u001b[0m\u001b[1;31m:\u001b[0m incomplete input\n"
     ]
    }
   ],
   "source": [
    "'''2.Operators and expressions'''\n",
    "a = 100\n",
    "b = 10\n",
    "\n",
    "print('addition', a+b)\n",
    "print('subtraction', a-b)\n",
    "print('Multiplication', a*b)\n",
    "print('division', a/b)\n",
    "print('modulus', a%b) # remainder of division\n",
    "print('exponentiation', a**b) \n",
    "print('floor division', a//b) # round to the nearest intege\n",
    "\n",
    "print('equal to', x==y)\n",
    "print('not equal to', x!=y)\n",
    "print('greater than', x>y)\n",
    "print('less than', x<y)\n",
    "print('greater than or equal to', x>=y)\n",
    "print('less than or equal to',x<=y)\n",
    "\n",
    "print(a and b)\n",
    "print(a or b)\n",
    "print( not a)\n",
    "\n",
    "print('Bitwise AND', a&b)\n",
    "print('Bitwise OR', a|b)\n",
    "print('Bitwise XOR', a^b)\n",
    "print('Bitwise NOT', ~b)\n",
    "print('left shift', a<<2)\n",
    "print('Right shift', a>>2)\n",
    "\n"
   ]
  },
  {
   "cell_type": "code",
   "execution_count": null,
   "id": "bf73fcc2-c72d-4b93-936d-d9f971a01ae9",
   "metadata": {},
   "outputs": [],
   "source": []
  }
 ],
 "metadata": {
  "kernelspec": {
   "display_name": "Python 3 (ipykernel)",
   "language": "python",
   "name": "python3"
  },
  "language_info": {
   "codemirror_mode": {
    "name": "ipython",
    "version": 3
   },
   "file_extension": ".py",
   "mimetype": "text/x-python",
   "name": "python",
   "nbconvert_exporter": "python",
   "pygments_lexer": "ipython3",
   "version": "3.11.9"
  }
 },
 "nbformat": 4,
 "nbformat_minor": 5
}
