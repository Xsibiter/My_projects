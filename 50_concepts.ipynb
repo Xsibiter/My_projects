{
 "cells": [
  {
   "cell_type": "code",
   "execution_count": 1,
   "id": "1fdda182-eff8-4c76-8928-f57142d2ee4c",
   "metadata": {},
   "outputs": [],
   "source": [
    "'''1.VARIABELS AND DATA TYPES'''\n",
    "x = 5 \n",
    "#int, float, string, list, tiples, dictionaries, sets\n",
    "x = 5\n",
    "y = 3.14\n",
    "name = 'John'\n",
    "my_list = [1,2,3] \n",
    "tup = (4,5,6)\n",
    "dictionary = {'name': 'John', 'age':30}\n"
   ]
  },
  {
   "cell_type": "code",
   "execution_count": 9,
   "id": "583e44e0-89f3-41ac-85f2-87bc6bc4f726",
   "metadata": {},
   "outputs": [
    {
     "name": "stdout",
     "output_type": "stream",
     "text": [
      "addition 110\n",
      "subtraction 90\n",
      "Multiplication 1000\n",
      "division 10.0\n",
      "modulus 0\n",
      "exponentiation 100000000000000000000\n",
      "floor division 10\n",
      "equal to False\n",
      "not equal to True\n",
      "greater than True\n",
      "less than False\n",
      "greater than or equal to True\n",
      "less than or equal to False\n",
      "10\n",
      "100\n",
      "False\n",
      "Bitwise AND 0\n",
      "Bitwise OR 110\n",
      "Bitwise XOR 110\n",
      "Bitwise NOT -11\n",
      "left shift 400\n",
      "Right shift 25\n",
      "False\n",
      "True\n",
      "True\n",
      "False\n"
     ]
    }
   ],
   "source": [
    "'''2.Operators and expressions'''\n",
    "a = 100\n",
    "b = 10\n",
    "\n",
    "print('addition', a+b)\n",
    "print('subtraction', a-b)\n",
    "print('Multiplication', a*b)\n",
    "print('division', a/b)\n",
    "print('modulus', a%b) # remainder of division\n",
    "print('exponentiation', a**b) \n",
    "print('floor division', a//b) # round to the nearest intege\n",
    "\n",
    "print('equal to', x==y)\n",
    "print('not equal to', x!=y)\n",
    "print('greater than', x>y)\n",
    "print('less than', x<y)\n",
    "print('greater than or equal to', x>=y)\n",
    "print('less than or equal to',x<=y)\n",
    "\n",
    "print(a and b)\n",
    "print(a or b)\n",
    "print( not a)\n",
    "\n",
    "print('Bitwise AND', a&b)\n",
    "print('Bitwise OR', a|b)\n",
    "print('Bitwise XOR', a^b)\n",
    "print('Bitwise NOT', ~b)\n",
    "print('left shift', a<<2)\n",
    "print('Right shift', a>>2)\n",
    "\n",
    "\n",
    "#identity operator\n",
    "\n",
    "print( a is b)\n",
    "print( a is not b)\n",
    "\n",
    "lisst = [1,2,3,4,5,6]\n",
    "\n",
    "print(3 in lisst)\n",
    "print( 4 not in lisst)\n"
   ]
  },
  {
   "cell_type": "code",
   "execution_count": 10,
   "id": "bf73fcc2-c72d-4b93-936d-d9f971a01ae9",
   "metadata": {},
   "outputs": [
    {
     "ename": "IndentationError",
     "evalue": "expected an indented block after 'if' statement on line 3 (3299153205.py, line 5)",
     "output_type": "error",
     "traceback": [
      "\u001b[1;36m  Cell \u001b[1;32mIn[10], line 5\u001b[1;36m\u001b[0m\n\u001b[1;33m    elif condition2:\u001b[0m\n\u001b[1;37m    ^\u001b[0m\n\u001b[1;31mIndentationError\u001b[0m\u001b[1;31m:\u001b[0m expected an indented block after 'if' statement on line 3\n"
     ]
    }
   ],
   "source": [
    "'''3.Control flow'''\n",
    "\n",
    "if condtion1:\n",
    "    #block of code to exe if condtion1 is True\n",
    "    elif condition2:\n",
    "    #block of code....\n",
    "    else:\n",
    "    #block of code if none of it is true\n",
    "\n",
    "'''LOOPS'''\n",
    "\n",
    "#allow to execute all of hte loops types\n",
    "\n",
    "for item in iterable:\n",
    "    #code to exe\n",
    "\n",
    "while CONDITION:\n",
    "    #block "
   ]
  },
  {
   "cell_type": "code",
   "execution_count": 16,
   "id": "4c1afaf2-7644-4823-b547-711b58b31dc4",
   "metadata": {},
   "outputs": [
    {
     "ename": "SyntaxError",
     "evalue": "invalid syntax (178572917.py, line 7)",
     "output_type": "error",
     "traceback": [
      "\u001b[1;36m  Cell \u001b[1;32mIn[16], line 7\u001b[1;36m\u001b[0m\n\u001b[1;33m    def function_name(par1,par2,par3....):\u001b[0m\n\u001b[1;37m                                    ^\u001b[0m\n\u001b[1;31mSyntaxError\u001b[0m\u001b[1;31m:\u001b[0m invalid syntax\n"
     ]
    }
   ],
   "source": [
    "'''4.functions and scope'''\n",
    "\n",
    "#Blocks of reusable code that perform a specific task, They allow you to break down your code into smaller, manageable parts\n",
    "\n",
    "'''syntax'''\n",
    "\n",
    "def function_name(par1,par2,par3....):\n",
    "    #block of code to exe\n",
    "    return result\n",
    "\n",
    "'''Scope'''\n",
    "\n",
    "#refers to the visiibility and accessibility of variables within different parts of the code\n",
    "\n",
    "'''global: variables defined outside of any function or class. Theu can be accessed anywhere'''\n",
    "\n",
    "'''Local: only accessible inside a function.'''\n",
    "\n"
   ]
  },
  {
   "cell_type": "code",
   "execution_count": null,
   "id": "f4d433f7-0c50-4f00-995f-c3f11128d5dc",
   "metadata": {},
   "outputs": [],
   "source": []
  },
  {
   "cell_type": "code",
   "execution_count": 4,
   "id": "bd3c8054-bb24-4d3b-baba-a1781e9606a8",
   "metadata": {},
   "outputs": [
    {
     "ename": "ModuleNotFoundError",
     "evalue": "No module named 'my_module'",
     "output_type": "error",
     "traceback": [
      "\u001b[1;31m---------------------------------------------------------------------------\u001b[0m",
      "\u001b[1;31mModuleNotFoundError\u001b[0m                       Traceback (most recent call last)",
      "Cell \u001b[1;32mIn[4], line 16\u001b[0m\n\u001b[0;32m     13\u001b[0m \u001b[38;5;28;01mdef\u001b[39;00m\u001b[38;5;250m \u001b[39m\u001b[38;5;21mgreet\u001b[39m(name):\n\u001b[0;32m     14\u001b[0m     \u001b[38;5;28;01mreturn\u001b[39;00m \u001b[38;5;124m'\u001b[39m\u001b[38;5;124mHello,\u001b[39m\u001b[38;5;124m'\u001b[39m \u001b[38;5;241m+\u001b[39m name \u001b[38;5;241m+\u001b[39m \u001b[38;5;124m\"\u001b[39m\u001b[38;5;124m!\u001b[39m\u001b[38;5;124m\"\u001b[39m\n\u001b[1;32m---> 16\u001b[0m \u001b[38;5;28;01mimport\u001b[39;00m\u001b[38;5;250m \u001b[39m\u001b[38;5;21;01mmy_module\u001b[39;00m\n\u001b[0;32m     18\u001b[0m \u001b[38;5;28mprint\u001b[39m(my_module\u001b[38;5;241m.\u001b[39mgreet(\u001b[38;5;124m\"\u001b[39m\u001b[38;5;124malice\u001b[39m\u001b[38;5;124m\"\u001b[39m))\n\u001b[0;32m     23\u001b[0m \u001b[38;5;124;03m'''Packages'''\u001b[39;00m\n",
      "\u001b[1;31mModuleNotFoundError\u001b[0m: No module named 'my_module'"
     ]
    }
   ],
   "source": [
    "'''Modules and packages'''\n",
    "\n",
    "# Modules contain a python code. It can define functions, classes, variables, and can be imported and used in othe python scripts\n",
    "'''modules allow you to organize your code in separate files, making it easier\n",
    "to manage and maintain'''\n",
    "\n",
    "'''You can create your own modules or use built-in modules provided by python or third-party'''\n",
    "\n",
    "'''To use a module - one must import it'''\n",
    "\n",
    "#create a module named my_module.py\n",
    "#file: my_module.py\n",
    "def greet(name):\n",
    "    return 'Hello,' + name + \"!\"\n",
    "\n",
    "import my_module\n",
    "\n",
    "print(my_module.greet(\"alice\"))\n",
    "\n",
    "\n",
    "\n",
    "\n",
    "'''Packages'''\n",
    "# a package in python is a hierachical directory structure containing mulliple modules and sub-packages\n",
    "#packages help organize related modules in a single namespace, making it easier to distribute and reuse code\n",
    "''' it must consist of a special file _init_.oy to be recognized as a package\n",
    "it helps us avoid naming coonflicts and etc.'''\n",
    "\n",
    "'''_innit_.py file structure:\n",
    "from.module_1 import func1\n",
    "form.module_2 import func2\n",
    "\n",
    "\n",
    "and use the package:\n",
    "import my_package as mp\n",
    "mp.func1()\n",
    "mp.func2()'''\n"
   ]
  },
  {
   "cell_type": "code",
   "execution_count": 43,
   "id": "69600853-c2c5-4af8-bee3-c1280860d6aa",
   "metadata": {},
   "outputs": [
    {
     "name": "stdout",
     "output_type": "stream",
     "text": [
      "[1, 2, 3, 4, 5, 6, 222, [1221212, 102]]\n",
      "[1, 2, 3, 4, 5, 6, 222, [1221212, 102], 111, 222, 333]\n",
      "['!!', 2, 1000303, 3, 4, 5, 6, 222, [1221212, 102], 111, 222, 333]\n",
      "[111, 222, 333]\n",
      "[111, 333]\n",
      "[8, 9, 10, 1, 2, 344, 55]\n",
      "[1, 2, 344, 55, 1, 2, 344, 55, 1, 2, 344, 55, 1, 2, 344, 55, 1, 2, 344, 55]\n",
      "True\n"
     ]
    }
   ],
   "source": [
    "'''Lists'''\n",
    "\n",
    "''' A list is a versatile data structure that is mutable - can be modifed after creation'''\n",
    "\n",
    "my_list = [1,2,3,4,5,6, 222]\n",
    "lis = [8,9,10]\n",
    "\n",
    "#examples of modification\n",
    "\n",
    "my_list.append([1221212,102]) #only one argument/element as a whole\n",
    "print(my_list)\n",
    "my_list.extend([111,222,333]) # takes several arguments and put them as individual elements\n",
    "print(my_list)\n",
    "my_list[0] = '!!'\n",
    "my_list.insert(2,1000303) # at the place of the third element insert 2\n",
    "print(my_list)\n",
    "del my_list[0:9] # deelte an element by index\n",
    "print(my_list)\n",
    "my_list.remove(222) #r remove only a certain elemnt!\n",
    "print(my_list)\n",
    "lisst = [1,2,344,55]\n",
    "combined = lis +lisst # adding elements of the certain lists\n",
    "print(combined)\n",
    "repeat = lisst*5 # repeats the list n-times\n",
    "print(repeat)\n",
    "len(lisst)\n",
    "print(2 in lisst)\n",
    "\n"
   ]
  },
  {
   "cell_type": "code",
   "execution_count": 1,
   "id": "f0958ed1-ffff-41d0-9ee3-c197613e37d3",
   "metadata": {},
   "outputs": [
    {
     "name": "stdout",
     "output_type": "stream",
     "text": [
      "orig. arr.:\n",
      "[1 2 3 4 5]\n"
     ]
    },
    {
     "data": {
      "text/plain": [
       "'Scikit-learn'"
      ]
     },
     "execution_count": 1,
     "metadata": {},
     "output_type": "execute_result"
    }
   ],
   "source": [
    "'''Data science and machine learning libraries'''\n",
    "\n",
    "#python has become one of the most pth languages for data scienece and machine learningn due to its rich ecosystem\n",
    "\n",
    "'''NumPy'''\n",
    "\n",
    "import numpy as np\n",
    "\n",
    "arr = np.array([1,2,3,4,5])\n",
    "\n",
    "print('orig. arr.:')\n",
    "print(arr)\n",
    "\n",
    "\n",
    "'''MatPlotLib'''\n",
    "'''Pandas'''\n",
    "\n",
    "\n",
    "'''Scikit-learn'''\n",
    "\n",
    "#scikit learn is a popular machine learning library in python that provides simple\n",
    "#Efficient tools for data mining and data analysis. It features various algorithms for\n",
    "# Classification, regression, clustering, dimensionality reduction\n",
    "#Model selection\n",
    "\n",
    "from sklearn.linear_model imprt LinearRegression\n",
    "import numpy as np\n",
    "\n",
    "X_train = np.array([[1],[2],[3],[4],[5]])\n",
    "y_train = np.array([2,4,6,8,10])\n",
    "\n",
    "model"
   ]
  },
  {
   "cell_type": "code",
   "execution_count": null,
   "id": "cac1dce9-2927-4349-b206-483031fd2154",
   "metadata": {},
   "outputs": [],
   "source": []
  }
 ],
 "metadata": {
  "kernelspec": {
   "display_name": "Python 3 (ipykernel)",
   "language": "python",
   "name": "python3"
  },
  "language_info": {
   "codemirror_mode": {
    "name": "ipython",
    "version": 3
   },
   "file_extension": ".py",
   "mimetype": "text/x-python",
   "name": "python",
   "nbconvert_exporter": "python",
   "pygments_lexer": "ipython3",
   "version": "3.11.9"
  }
 },
 "nbformat": 4,
 "nbformat_minor": 5
}
